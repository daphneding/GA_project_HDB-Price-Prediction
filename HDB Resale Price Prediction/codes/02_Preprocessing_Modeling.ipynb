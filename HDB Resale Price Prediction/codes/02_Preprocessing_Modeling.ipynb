{
 "cells": [
  {
   "cell_type": "markdown",
   "id": "eb5bd142-0edc-4aa5-ae89-c709a5af04f6",
   "metadata": {},
   "source": [
    "# Preprocessing"
   ]
  },
  {
   "cell_type": "markdown",
   "id": "291c8622-e9f8-49e1-aa36-879b70769a22",
   "metadata": {},
   "source": [
    "#### In general, we need to take approches to preprocess data for before fitting a Linear Regression model: \n"
   ]
  },
  {
   "cell_type": "markdown",
   "id": "049408c3-1828-4ef0-979e-6ca35d8854ad",
   "metadata": {},
   "source": [
    "- Linear Regression only takes numerical values to model\n",
    "\n",
    "1.  Check if the numerical features are meaningful to the model. For instance, locational features with numercial input should be removed. \n",
    "2.  Categorical features (nominal and ordinal) will be converted into numerical representations by the means of One Hot Encoding (binarize the category into an array of 1 and 0 to represent the feature) or Ordinal Encoding (convert category to numerical values which retains the order of category).\n",
    "\n",
    "- Selection of significant features\n",
    "\n",
    "1.  Remove features with majority counts for a single category. This feature may not provide extra information as most data falls under the same category.\n",
    "2.  Regularization using Lasso, Ridge and Elastic Net to penalize unnecessary features is important."
   ]
  },
  {
   "cell_type": "code",
   "execution_count": 54,
   "id": "f7653f4c-abd0-4926-9dbc-08f36b61d7a6",
   "metadata": {},
   "outputs": [],
   "source": [
    "# again, import essential libraries\n",
    "import pandas as pd\n",
    "import numpy as np\n",
    "import matplotlib.pyplot as plt\n",
    "import seaborn as sns"
   ]
  },
  {
   "cell_type": "code",
   "execution_count": 55,
   "id": "49d6ed8b-a030-460d-a3d6-79c43ac8f95a",
   "metadata": {},
   "outputs": [
    {
     "name": "stderr",
     "output_type": "stream",
     "text": [
      "C:\\Users\\daphn\\AppData\\Local\\Temp\\ipykernel_9928\\573226017.py:2: DtypeWarning: Columns (42) have mixed types. Specify dtype option on import or set low_memory=False.\n",
      "  df = pd.read_csv('../datasets/train_bf_preprocessing.csv')\n",
      "C:\\Users\\daphn\\AppData\\Local\\Temp\\ipykernel_9928\\573226017.py:3: DtypeWarning: Columns (41) have mixed types. Specify dtype option on import or set low_memory=False.\n",
      "  df_pred = pd.read_csv('../datasets/test_bf_preprocessing.csv')\n"
     ]
    }
   ],
   "source": [
    "# read the files\n",
    "df = pd.read_csv('../datasets/train_bf_preprocessing.csv')\n",
    "df_pred = pd.read_csv('../datasets/test_bf_preprocessing.csv')"
   ]
  },
  {
   "cell_type": "code",
   "execution_count": 63,
   "id": "66dfae5f-a003-487d-af90-210ab034f7df",
   "metadata": {},
   "outputs": [
    {
     "data": {
      "text/plain": [
       "(150634, 71)"
      ]
     },
     "execution_count": 63,
     "metadata": {},
     "output_type": "execute_result"
    }
   ],
   "source": [
    "df.shape"
   ]
  },
  {
   "cell_type": "code",
   "execution_count": 64,
   "id": "0292bb0c-4172-43b9-b51b-17cf6a021ae2",
   "metadata": {},
   "outputs": [
    {
     "data": {
      "text/plain": [
       "(16737, 70)"
      ]
     },
     "execution_count": 64,
     "metadata": {},
     "output_type": "execute_result"
    }
   ],
   "source": [
    "df_pred.shape"
   ]
  },
  {
   "cell_type": "code",
   "execution_count": 65,
   "id": "93b84362-f287-4174-8888-75d0b8a7cfa8",
   "metadata": {},
   "outputs": [
    {
     "data": {
      "text/plain": [
       "Index(['id', 'Tranc_YearMonth', 'town', 'flat_type', 'block', 'street_name',\n",
       "       'storey_range', 'floor_area_sqm', 'flat_model', 'lease_commence_date',\n",
       "       'resale_price', 'Tranc_Year', 'Tranc_Month', 'mid_storey', 'lower',\n",
       "       'upper', 'mid', 'full_flat_type', 'address', 'floor_area_sqft',\n",
       "       'hdb_age', 'max_floor_lvl', 'year_completed', 'residential',\n",
       "       'commercial', 'market_hawker', 'multistorey_carpark',\n",
       "       'precinct_pavilion', 'total_dwelling_units', '1room_sold', '2room_sold',\n",
       "       '3room_sold', '4room_sold', '5room_sold', 'exec_sold', 'multigen_sold',\n",
       "       'studio_apartment_sold', '1room_rental', '2room_rental', '3room_rental',\n",
       "       'other_room_rental', 'postal', 'Latitude', 'Longitude', 'planning_area',\n",
       "       'Mall_Nearest_Distance', 'Hawker_Nearest_Distance',\n",
       "       'hawker_food_stalls', 'hawker_market_stalls', 'mrt_nearest_distance',\n",
       "       'mrt_name', 'bus_interchange', 'mrt_interchange', 'mrt_latitude',\n",
       "       'mrt_longitude', 'bus_stop_nearest_distance', 'bus_stop_name',\n",
       "       'bus_stop_latitude', 'bus_stop_longitude', 'pri_sch_nearest_distance',\n",
       "       'pri_sch_name', 'vacancy', 'pri_sch_affiliation', 'pri_sch_latitude',\n",
       "       'pri_sch_longitude', 'sec_sch_nearest_dist', 'sec_sch_name',\n",
       "       'cutoff_point', 'affiliation', 'sec_sch_latitude', 'sec_sch_longitude'],\n",
       "      dtype='object')"
      ]
     },
     "execution_count": 65,
     "metadata": {},
     "output_type": "execute_result"
    }
   ],
   "source": [
    "df.columns"
   ]
  },
  {
   "cell_type": "markdown",
   "id": "c44b61bc-87ec-41c6-bd83-71147e708a50",
   "metadata": {},
   "source": [
    "- Drop features that are irrelevant to our study of flat prices regardless if they're categorical or numerical: `id`,`mrt_name`, `pri_sch_name`, `sec_sch_name`\n",
    "- Drop locational features: `address`, `block`,`street_name`, `postal`, `Latitude`, `Longitude`, `mrt_latitude`, `mrt_longitude`,`bus_stop_latitude`, `bus_stop_longitude`, `pri_sch_latitude`, `pri_sch_longitude`, `sec_sch_latitude`, `sec_sch_longitude`.\n",
    "- Drop redundant features: `floor_area_sqft` (while keeping `floor_area_sqm`), `Tranc_YearMonth` (while keeping `Tranc_Year` and `Tranc_Month`), `residential`, (while keeping `commercial`), drop `storey_range`, `lower`, `upper`, `mid` (while keeping `mid_storey`), `full_flat_type` (while keeping `flat_type`, `flat_model`), `hdb_age` , `year_completed` (while keeping `lease_commence_date`)\n",
    "- Drop features with insufficient value counts: `1room_rental`,\t`2room_rental`,\t`3room_rental`,\t`other_room_rental`"
   ]
  },
  {
   "cell_type": "code",
   "execution_count": 67,
   "id": "8b778165-0821-47a2-9ecc-53aa6abc5edf",
   "metadata": {},
   "outputs": [],
   "source": [
    "df.drop(columns = [\n",
    "\n",
    "# Drop features that are irrelevant to our study of flat prices regardless if they're categorical or numerical:  \n",
    "    'id','mrt_name', 'pri_sch_name', 'sec_sch_name', 'bus_stop_name',\n",
    "    \n",
    "# Drop locational features: \n",
    "    'address', 'block','street_name', 'postal', 'Latitude', 'Longitude', \n",
    "    'mrt_latitude', 'mrt_longitude','bus_stop_latitude', 'bus_stop_longitude', \n",
    "    'pri_sch_latitude', 'pri_sch_longitude', 'sec_sch_latitude', 'sec_sch_longitude',\n",
    "\n",
    "# Drop redundant features:\n",
    "    'floor_area_sqft', # keep floor_area_sqm\n",
    "    'Tranc_YearMonth', # keep Tranc_Year and Tranc_Month\n",
    "    'residential', # keep commercial\n",
    "    'storey_range', 'lower', 'upper', 'mid', # keep mid_storey, \n",
    "    'full_flat_type', # keep flat_type, flat_model, \n",
    "    'hdb_age', 'year_completed', # keep lease_commence_date\n",
    "\n",
    "# Drop features with insufficient value counts: \n",
    "    '1room_rental', '2room_rental', '3room_rental', 'other_room_rental'\n",
    "\n",
    "], axis=1, inplace=True )"
   ]
  },
  {
   "cell_type": "code",
   "execution_count": 69,
   "id": "270aadef-85b8-4a61-b85f-b5a4fb77c852",
   "metadata": {},
   "outputs": [],
   "source": [
    "# do exactly the same for predict data:\n",
    "\n",
    "df_pred.drop(columns = [\n",
    "\n",
    "# Drop features that are irrelevant to our study of flat prices regardless if they're categorical or numerical: \n",
    "    'id','mrt_name', 'pri_sch_name', 'sec_sch_name', 'bus_stop_name',\n",
    "    \n",
    "# Drop locational features: \n",
    "    'address', 'block','street_name', 'postal', 'Latitude', 'Longitude', \n",
    "    'mrt_latitude', 'mrt_longitude','bus_stop_latitude', 'bus_stop_longitude', \n",
    "    'pri_sch_latitude', 'pri_sch_longitude', 'sec_sch_latitude', 'sec_sch_longitude',\n",
    "\n",
    "# Drop redundant features:\n",
    "    'floor_area_sqft', # keep floor_area_sqm\n",
    "    'Tranc_YearMonth', # keep Tranc_Year and Tranc_Month\n",
    "    'residential', # keep commercial\n",
    "    'storey_range', 'lower', 'upper', 'mid', # keep mid_storey, \n",
    "    'full_flat_type', # keep flat_type, flat_model, \n",
    "    'hdb_age', 'year_completed', # keep lease_commence_date\n",
    "\n",
    "# Drop features with insufficient value counts: \n",
    "    '1room_rental', '2room_rental', '3room_rental', 'other_room_rental'\n",
    "\n",
    "], axis=1, inplace=True )"
   ]
  },
  {
   "cell_type": "markdown",
   "id": "c40171ef-6c58-4ceb-85d7-fadf01ec7cb5",
   "metadata": {},
   "source": [
    "#### Check the dataframe shape after dropping the irrelevant features:"
   ]
  },
  {
   "cell_type": "code",
   "execution_count": 73,
   "id": "f6e6333a-99df-4ec6-bca0-d027af0c723f",
   "metadata": {},
   "outputs": [
    {
     "data": {
      "text/plain": [
       "(150634, 38)"
      ]
     },
     "execution_count": 73,
     "metadata": {},
     "output_type": "execute_result"
    }
   ],
   "source": [
    "df.shape"
   ]
  },
  {
   "cell_type": "code",
   "execution_count": 75,
   "id": "81a88254-43f9-43bd-94b7-1f7f6ecd9e81",
   "metadata": {},
   "outputs": [
    {
     "data": {
      "text/plain": [
       "(16737, 37)"
      ]
     },
     "execution_count": 75,
     "metadata": {},
     "output_type": "execute_result"
    }
   ],
   "source": [
    "df_pred.shape"
   ]
  },
  {
   "cell_type": "markdown",
   "id": "d475a095-967c-4917-90f3-01b2376b3aef",
   "metadata": {},
   "source": [
    "#### Identify categorical features and numerical features:"
   ]
  },
  {
   "cell_type": "code",
   "execution_count": 77,
   "id": "5ab3b570-87c3-4ac5-bbcf-955349f730e8",
   "metadata": {},
   "outputs": [
    {
     "name": "stdout",
     "output_type": "stream",
     "text": [
      "<class 'pandas.core.frame.DataFrame'>\n",
      "RangeIndex: 150634 entries, 0 to 150633\n",
      "Data columns (total 38 columns):\n",
      " #   Column                     Non-Null Count   Dtype  \n",
      "---  ------                     --------------   -----  \n",
      " 0   town                       150634 non-null  object \n",
      " 1   flat_type                  150634 non-null  object \n",
      " 2   floor_area_sqm             150634 non-null  float64\n",
      " 3   flat_model                 150634 non-null  object \n",
      " 4   lease_commence_date        150634 non-null  int64  \n",
      " 5   resale_price               150634 non-null  float64\n",
      " 6   Tranc_Year                 150634 non-null  int64  \n",
      " 7   Tranc_Month                150634 non-null  int64  \n",
      " 8   mid_storey                 150634 non-null  int64  \n",
      " 9   max_floor_lvl              150634 non-null  int64  \n",
      " 10  commercial                 150634 non-null  object \n",
      " 11  market_hawker              150634 non-null  object \n",
      " 12  multistorey_carpark        150634 non-null  object \n",
      " 13  precinct_pavilion          150634 non-null  object \n",
      " 14  total_dwelling_units       150634 non-null  int64  \n",
      " 15  1room_sold                 150634 non-null  int64  \n",
      " 16  2room_sold                 150634 non-null  int64  \n",
      " 17  3room_sold                 150634 non-null  int64  \n",
      " 18  4room_sold                 150634 non-null  int64  \n",
      " 19  5room_sold                 150634 non-null  int64  \n",
      " 20  exec_sold                  150634 non-null  int64  \n",
      " 21  multigen_sold              150634 non-null  int64  \n",
      " 22  studio_apartment_sold      150634 non-null  int64  \n",
      " 23  planning_area              150634 non-null  object \n",
      " 24  Mall_Nearest_Distance      150634 non-null  float64\n",
      " 25  Hawker_Nearest_Distance    150634 non-null  float64\n",
      " 26  hawker_food_stalls         150634 non-null  int64  \n",
      " 27  hawker_market_stalls       150634 non-null  int64  \n",
      " 28  mrt_nearest_distance       150634 non-null  float64\n",
      " 29  bus_interchange            150634 non-null  int64  \n",
      " 30  mrt_interchange            150634 non-null  int64  \n",
      " 31  bus_stop_nearest_distance  150634 non-null  float64\n",
      " 32  pri_sch_nearest_distance   150634 non-null  float64\n",
      " 33  vacancy                    150634 non-null  int64  \n",
      " 34  pri_sch_affiliation        150634 non-null  int64  \n",
      " 35  sec_sch_nearest_dist       150634 non-null  float64\n",
      " 36  cutoff_point               150634 non-null  int64  \n",
      " 37  affiliation                150634 non-null  int64  \n",
      "dtypes: float64(8), int64(22), object(8)\n",
      "memory usage: 43.7+ MB\n"
     ]
    }
   ],
   "source": [
    "df.info()"
   ]
  },
  {
   "cell_type": "code",
   "execution_count": 78,
   "id": "52451de9-f45a-4c32-b5ba-a7c29314a568",
   "metadata": {},
   "outputs": [
    {
     "data": {
      "text/html": [
       "<div>\n",
       "<style scoped>\n",
       "    .dataframe tbody tr th:only-of-type {\n",
       "        vertical-align: middle;\n",
       "    }\n",
       "\n",
       "    .dataframe tbody tr th {\n",
       "        vertical-align: top;\n",
       "    }\n",
       "\n",
       "    .dataframe thead th {\n",
       "        text-align: right;\n",
       "    }\n",
       "</style>\n",
       "<table border=\"1\" class=\"dataframe\">\n",
       "  <thead>\n",
       "    <tr style=\"text-align: right;\">\n",
       "      <th></th>\n",
       "      <th>town</th>\n",
       "      <th>flat_type</th>\n",
       "      <th>flat_model</th>\n",
       "      <th>commercial</th>\n",
       "      <th>market_hawker</th>\n",
       "      <th>planning_area</th>\n",
       "      <th>multistorey_carpark</th>\n",
       "      <th>precinct_pavilion</th>\n",
       "    </tr>\n",
       "  </thead>\n",
       "  <tbody>\n",
       "    <tr>\n",
       "      <th>0</th>\n",
       "      <td>KALLANG/WHAMPOA</td>\n",
       "      <td>4 ROOM</td>\n",
       "      <td>Model A</td>\n",
       "      <td>N</td>\n",
       "      <td>N</td>\n",
       "      <td>Kallang</td>\n",
       "      <td>N</td>\n",
       "      <td>N</td>\n",
       "    </tr>\n",
       "    <tr>\n",
       "      <th>1</th>\n",
       "      <td>BISHAN</td>\n",
       "      <td>5 ROOM</td>\n",
       "      <td>Improved</td>\n",
       "      <td>N</td>\n",
       "      <td>N</td>\n",
       "      <td>Bishan</td>\n",
       "      <td>N</td>\n",
       "      <td>N</td>\n",
       "    </tr>\n",
       "    <tr>\n",
       "      <th>2</th>\n",
       "      <td>BUKIT BATOK</td>\n",
       "      <td>EXECUTIVE</td>\n",
       "      <td>Apartment</td>\n",
       "      <td>N</td>\n",
       "      <td>N</td>\n",
       "      <td>Bukit Batok</td>\n",
       "      <td>N</td>\n",
       "      <td>N</td>\n",
       "    </tr>\n",
       "    <tr>\n",
       "      <th>3</th>\n",
       "      <td>BISHAN</td>\n",
       "      <td>4 ROOM</td>\n",
       "      <td>Model A</td>\n",
       "      <td>Y</td>\n",
       "      <td>N</td>\n",
       "      <td>Bishan</td>\n",
       "      <td>N</td>\n",
       "      <td>N</td>\n",
       "    </tr>\n",
       "    <tr>\n",
       "      <th>4</th>\n",
       "      <td>YISHUN</td>\n",
       "      <td>4 ROOM</td>\n",
       "      <td>Simplified</td>\n",
       "      <td>N</td>\n",
       "      <td>N</td>\n",
       "      <td>Yishun</td>\n",
       "      <td>N</td>\n",
       "      <td>N</td>\n",
       "    </tr>\n",
       "    <tr>\n",
       "      <th>...</th>\n",
       "      <td>...</td>\n",
       "      <td>...</td>\n",
       "      <td>...</td>\n",
       "      <td>...</td>\n",
       "      <td>...</td>\n",
       "      <td>...</td>\n",
       "      <td>...</td>\n",
       "      <td>...</td>\n",
       "    </tr>\n",
       "    <tr>\n",
       "      <th>150629</th>\n",
       "      <td>WOODLANDS</td>\n",
       "      <td>EXECUTIVE</td>\n",
       "      <td>Apartment</td>\n",
       "      <td>Y</td>\n",
       "      <td>N</td>\n",
       "      <td>Woodlands</td>\n",
       "      <td>N</td>\n",
       "      <td>N</td>\n",
       "    </tr>\n",
       "    <tr>\n",
       "      <th>150630</th>\n",
       "      <td>JURONG WEST</td>\n",
       "      <td>5 ROOM</td>\n",
       "      <td>Improved</td>\n",
       "      <td>N</td>\n",
       "      <td>N</td>\n",
       "      <td>Jurong West</td>\n",
       "      <td>N</td>\n",
       "      <td>N</td>\n",
       "    </tr>\n",
       "    <tr>\n",
       "      <th>150631</th>\n",
       "      <td>BEDOK</td>\n",
       "      <td>EXECUTIVE</td>\n",
       "      <td>Apartment</td>\n",
       "      <td>N</td>\n",
       "      <td>N</td>\n",
       "      <td>Bedok</td>\n",
       "      <td>N</td>\n",
       "      <td>N</td>\n",
       "    </tr>\n",
       "    <tr>\n",
       "      <th>150632</th>\n",
       "      <td>QUEENSTOWN</td>\n",
       "      <td>3 ROOM</td>\n",
       "      <td>Improved</td>\n",
       "      <td>N</td>\n",
       "      <td>N</td>\n",
       "      <td>Queenstown</td>\n",
       "      <td>N</td>\n",
       "      <td>N</td>\n",
       "    </tr>\n",
       "    <tr>\n",
       "      <th>150633</th>\n",
       "      <td>YISHUN</td>\n",
       "      <td>MULTI-GENERATION</td>\n",
       "      <td>Multi Generation</td>\n",
       "      <td>N</td>\n",
       "      <td>N</td>\n",
       "      <td>Yishun</td>\n",
       "      <td>N</td>\n",
       "      <td>N</td>\n",
       "    </tr>\n",
       "  </tbody>\n",
       "</table>\n",
       "<p>150634 rows × 8 columns</p>\n",
       "</div>"
      ],
      "text/plain": [
       "                   town         flat_type        flat_model commercial  \\\n",
       "0       KALLANG/WHAMPOA            4 ROOM           Model A          N   \n",
       "1                BISHAN            5 ROOM          Improved          N   \n",
       "2           BUKIT BATOK         EXECUTIVE         Apartment          N   \n",
       "3                BISHAN            4 ROOM           Model A          Y   \n",
       "4                YISHUN            4 ROOM        Simplified          N   \n",
       "...                 ...               ...               ...        ...   \n",
       "150629        WOODLANDS         EXECUTIVE         Apartment          Y   \n",
       "150630      JURONG WEST            5 ROOM          Improved          N   \n",
       "150631            BEDOK         EXECUTIVE         Apartment          N   \n",
       "150632       QUEENSTOWN            3 ROOM          Improved          N   \n",
       "150633           YISHUN  MULTI-GENERATION  Multi Generation          N   \n",
       "\n",
       "       market_hawker planning_area multistorey_carpark precinct_pavilion  \n",
       "0                  N       Kallang                   N                 N  \n",
       "1                  N        Bishan                   N                 N  \n",
       "2                  N   Bukit Batok                   N                 N  \n",
       "3                  N        Bishan                   N                 N  \n",
       "4                  N        Yishun                   N                 N  \n",
       "...              ...           ...                 ...               ...  \n",
       "150629             N     Woodlands                   N                 N  \n",
       "150630             N   Jurong West                   N                 N  \n",
       "150631             N         Bedok                   N                 N  \n",
       "150632             N    Queenstown                   N                 N  \n",
       "150633             N        Yishun                   N                 N  \n",
       "\n",
       "[150634 rows x 8 columns]"
      ]
     },
     "execution_count": 78,
     "metadata": {},
     "output_type": "execute_result"
    }
   ],
   "source": [
    "#check for number of values for each categorical features:\n",
    "df[['town', 'flat_type', 'flat_model', 'commercial', 'market_hawker', 'planning_area', 'multistorey_carpark', 'precinct_pavilion']]"
   ]
  },
  {
   "cell_type": "code",
   "execution_count": 79,
   "id": "cdd99d77-9cf8-4802-8d02-cd4d7324eaf5",
   "metadata": {},
   "outputs": [
    {
     "data": {
      "text/plain": [
       "array(['N', 'Y'], dtype=object)"
      ]
     },
     "execution_count": 79,
     "metadata": {},
     "output_type": "execute_result"
    }
   ],
   "source": [
    "# check and confirm which are the categorical features with binary outcomes:\n",
    "df['market_hawker'].unique()"
   ]
  },
  {
   "cell_type": "code",
   "execution_count": 80,
   "id": "8e19baa4-fbaf-4a6f-8561-f59e171be445",
   "metadata": {},
   "outputs": [
    {
     "data": {
      "text/plain": [
       "array(['N', 'Y'], dtype=object)"
      ]
     },
     "execution_count": 80,
     "metadata": {},
     "output_type": "execute_result"
    }
   ],
   "source": [
    "df['commercial'].unique()"
   ]
  },
  {
   "cell_type": "code",
   "execution_count": 81,
   "id": "36aa57e0-7c35-4a4f-90b8-02a5b5fe7207",
   "metadata": {},
   "outputs": [
    {
     "data": {
      "text/plain": [
       "array(['KALLANG/WHAMPOA', 'BISHAN', 'BUKIT BATOK', 'YISHUN', 'GEYLANG',\n",
       "       'HOUGANG', 'BEDOK', 'SENGKANG', 'TAMPINES', 'SERANGOON',\n",
       "       'BUKIT MERAH', 'BUKIT PANJANG', 'WOODLANDS', 'JURONG WEST',\n",
       "       'TOA PAYOH', 'CHOA CHU KANG', 'SEMBAWANG', 'ANG MO KIO',\n",
       "       'PASIR RIS', 'CLEMENTI', 'PUNGGOL', 'JURONG EAST', 'CENTRAL AREA',\n",
       "       'QUEENSTOWN', 'BUKIT TIMAH', 'MARINE PARADE'], dtype=object)"
      ]
     },
     "execution_count": 81,
     "metadata": {},
     "output_type": "execute_result"
    }
   ],
   "source": [
    "df['town'].unique()"
   ]
  },
  {
   "cell_type": "code",
   "execution_count": 82,
   "id": "6a9a6216-e8a3-4716-b94e-0888fd04cf8c",
   "metadata": {},
   "outputs": [
    {
     "data": {
      "text/plain": [
       "array(['4 ROOM', '5 ROOM', 'EXECUTIVE', '3 ROOM', '2 ROOM', '1 ROOM',\n",
       "       'MULTI-GENERATION'], dtype=object)"
      ]
     },
     "execution_count": 82,
     "metadata": {},
     "output_type": "execute_result"
    }
   ],
   "source": [
    "df['flat_type'].unique()"
   ]
  },
  {
   "cell_type": "code",
   "execution_count": 83,
   "id": "cc0d3af6-5c75-445a-b379-5228cc294c05",
   "metadata": {},
   "outputs": [
    {
     "data": {
      "text/plain": [
       "array(['Model A', 'Improved', 'Apartment', 'Simplified', 'New Generation',\n",
       "       'Premium Apartment', 'Model A2', 'Maisonette', 'Standard', 'DBSS',\n",
       "       'Terrace', 'Model A-Maisonette', 'Type S1',\n",
       "       'Premium Apartment Loft', 'Adjoined flat', 'Multi Generation',\n",
       "       'Type S2', 'Premium Maisonette', 'Improved-Maisonette', '2-room'],\n",
       "      dtype=object)"
      ]
     },
     "execution_count": 83,
     "metadata": {},
     "output_type": "execute_result"
    }
   ],
   "source": [
    "df['flat_model'].unique()"
   ]
  },
  {
   "cell_type": "code",
   "execution_count": 33,
   "id": "880bd63f-9b8f-4e19-be43-47c761c9b3f5",
   "metadata": {},
   "outputs": [
    {
     "data": {
      "text/plain": [
       "array(['Kallang', 'Bishan', 'Bukit Batok', 'Yishun', 'Geylang', 'Hougang',\n",
       "       'Bedok', 'Sengkang', 'Tampines', 'Serangoon', 'Bukit Merah',\n",
       "       'Bukit Panjang', 'Woodlands', 'Jurong West', 'Toa Payoh',\n",
       "       'Choa Chu Kang', 'Sembawang', 'Novena', 'Ang Mo Kio', 'Pasir Ris',\n",
       "       'Clementi', 'Punggol', 'Jurong East', 'Rochor', 'Queenstown',\n",
       "       'Bukit Timah', 'Outram', 'Tanglin', 'Marine Parade',\n",
       "       'Western Water Catchment', 'Downtown Core', 'Changi'], dtype=object)"
      ]
     },
     "execution_count": 33,
     "metadata": {},
     "output_type": "execute_result"
    }
   ],
   "source": [
    "df['planning_area'].unique()"
   ]
  },
  {
   "cell_type": "code",
   "execution_count": 84,
   "id": "cdd3c404-8d52-4b5d-a770-acb4b37b66a7",
   "metadata": {},
   "outputs": [
    {
     "data": {
      "text/plain": [
       "array(['N', 'Y'], dtype=object)"
      ]
     },
     "execution_count": 84,
     "metadata": {},
     "output_type": "execute_result"
    }
   ],
   "source": [
    "df['multistorey_carpark'].unique()"
   ]
  },
  {
   "cell_type": "code",
   "execution_count": 85,
   "id": "22f4ca97-4392-4c24-8f39-3c55f7672da8",
   "metadata": {},
   "outputs": [
    {
     "data": {
      "text/plain": [
       "array(['N', 'Y'], dtype=object)"
      ]
     },
     "execution_count": 85,
     "metadata": {},
     "output_type": "execute_result"
    }
   ],
   "source": [
    "df['precinct_pavilion'].unique()"
   ]
  },
  {
   "cell_type": "markdown",
   "id": "a004ee3f-bf1c-44a6-aed8-e9835f845dd5",
   "metadata": {},
   "source": [
    "- Out of the five categorical features identified, `town` `flat_type` `flat_model` `planning_area` have more than two outputs, whereas `commercial` `market_hawker` has binary values."
   ]
  },
  {
   "cell_type": "markdown",
   "id": "613111de-9d24-49c8-85e4-ddb993f7ccda",
   "metadata": {},
   "source": [
    "#### Handling Categorical Features: Ordinal Encoding (convert category to numerical values which retains the order of category)"
   ]
  },
  {
   "cell_type": "code",
   "execution_count": 88,
   "id": "c3b2ae26-a27c-4da8-87d9-681f22f24fd7",
   "metadata": {},
   "outputs": [],
   "source": [
    "df['market_hawker'] = [1 if i=='Y' else 0 for i in df['market_hawker']]\n",
    "df['commercial'] = [1 if i=='Y' else 0 for i in df['commercial']]\n",
    "df['multistorey_carpark'] = [1 if i=='Y' else 0 for i in df['multistorey_carpark']]\n",
    "df['precinct_pavilion'] = [1 if i=='Y' else 0 for i in df['precinct_pavilion']]"
   ]
  },
  {
   "cell_type": "code",
   "execution_count": 89,
   "id": "6fc3c96d-f95a-4730-876a-2383b2ae743e",
   "metadata": {},
   "outputs": [],
   "source": [
    "df_pred['market_hawker'] = [1 if i=='Y' else 0 for i in df_pred['market_hawker']]\n",
    "df_pred['commercial'] = [1 if i=='Y' else 0 for i in df_pred['commercial']]\n",
    "df_pred['multistorey_carpark'] = [1 if i=='Y' else 0 for i in df_pred['multistorey_carpark']]\n",
    "df_pred['precinct_pavilion'] = [1 if i=='Y' else 0 for i in df_pred['precinct_pavilion']]"
   ]
  },
  {
   "cell_type": "markdown",
   "id": "ad7a893f-b9ac-486c-be2d-ffa5b40cec04",
   "metadata": {},
   "source": [
    "#### Handling Categorical Features: One Hot Encoding (binarize the category into an array of 1 and 0 to represent the feature)"
   ]
  },
  {
   "cell_type": "markdown",
   "id": "2306d5f7-43e4-43ee-8b09-b96d9484fa6b",
   "metadata": {},
   "source": [
    "- Before One Hot Encoding, make sure to check if train data and predict data have the same number of unique value outputs. If not, it will result in different number of columns after OHE."
   ]
  },
  {
   "cell_type": "code",
   "execution_count": 96,
   "id": "dc96c3df-4909-4b2f-8f5a-2baa05d7af5c",
   "metadata": {},
   "outputs": [
    {
     "name": "stdout",
     "output_type": "stream",
     "text": [
      "No. of unique values in column TOWN for train data is 26, for predict data is 26\n"
     ]
    }
   ],
   "source": [
    "print(f\"No. of unique values in column TOWN for train data is {(len(df['town'].unique()))}, for predict data is {(len(df_pred['town'].value_counts()))}\")"
   ]
  },
  {
   "cell_type": "code",
   "execution_count": 97,
   "id": "387cf9e1-7687-444d-8646-06f71c6e9aa8",
   "metadata": {},
   "outputs": [
    {
     "name": "stdout",
     "output_type": "stream",
     "text": [
      "No. of unique values in column FLAT_TYPE for train data is 7, for predict data is 7\n"
     ]
    }
   ],
   "source": [
    "print(f\"No. of unique values in column FLAT TYPE for train data is {(len(df['flat_type'].unique()))}, for predict data is {(len(df_pred['flat_type'].value_counts()))}\")"
   ]
  },
  {
   "cell_type": "code",
   "execution_count": 98,
   "id": "0e2f680f-9690-41ba-883e-89c71f7bad53",
   "metadata": {},
   "outputs": [
    {
     "name": "stdout",
     "output_type": "stream",
     "text": [
      "No. of unique values in column PLANNING AREA for train data is 32, for predict data is 32\n"
     ]
    }
   ],
   "source": [
    "print(f\"No. of unique values in column PLANNING AREA for train data is {(len(df['planning_area'].unique()))}, for predict data is {(len(df_pred['planning_area'].value_counts()))}\")"
   ]
  },
  {
   "cell_type": "code",
   "execution_count": 99,
   "id": "833b8d37-63e4-480c-aa97-694e91289d69",
   "metadata": {},
   "outputs": [
    {
     "name": "stdout",
     "output_type": "stream",
     "text": [
      "No. of unique values in column FLAT MODEL for train data is 20, for predict data is 19\n"
     ]
    }
   ],
   "source": [
    "print(f\"No. of unique values in column FLAT MODEL for train data is {(len(df['flat_model'].unique()))}, for predict data is {(len(df_pred['flat_model'].value_counts()))}\")"
   ]
  },
  {
   "cell_type": "markdown",
   "id": "0b7a4b55-4906-4a45-a020-1f08aaba9358",
   "metadata": {},
   "source": [
    "- It shows that for `flat_model` feature in train and predict data, the number of unique values are not the same. \n",
    "- Let's find out which is the missing value in the predict data."
   ]
  },
  {
   "cell_type": "code",
   "execution_count": 100,
   "id": "439c666f-61ca-45d5-8345-3d5b23c551c9",
   "metadata": {},
   "outputs": [
    {
     "data": {
      "text/plain": [
       "Model A                   46261\n",
       "Improved                  38514\n",
       "New Generation            23366\n",
       "Premium Apartment         15091\n",
       "Simplified                 7239\n",
       "Apartment                  6080\n",
       "Standard                   4867\n",
       "Maisonette                 4364\n",
       "Model A2                   2064\n",
       "DBSS                       1658\n",
       "Model A-Maisonette          262\n",
       "Adjoined flat               260\n",
       "Type S1                     242\n",
       "Type S2                     127\n",
       "Terrace                      95\n",
       "Multi Generation             56\n",
       "Premium Apartment Loft       50\n",
       "Improved-Maisonette          19\n",
       "Premium Maisonette           15\n",
       "2-room                        4\n",
       "Name: flat_model, dtype: int64"
      ]
     },
     "execution_count": 100,
     "metadata": {},
     "output_type": "execute_result"
    }
   ],
   "source": [
    "df['flat_model'].value_counts()"
   ]
  },
  {
   "cell_type": "code",
   "execution_count": 101,
   "id": "224b0725-a0ef-4d1b-8608-e8412a92e3fe",
   "metadata": {},
   "outputs": [
    {
     "data": {
      "text/plain": [
       "Model A                   5239\n",
       "Improved                  4201\n",
       "New Generation            2552\n",
       "Premium Apartment         1716\n",
       "Simplified                 829\n",
       "Apartment                  646\n",
       "Standard                   567\n",
       "Maisonette                 453\n",
       "Model A2                   258\n",
       "DBSS                       150\n",
       "Adjoined flat               30\n",
       "Model A-Maisonette          29\n",
       "Type S1                     29\n",
       "Type S2                     12\n",
       "Terrace                     10\n",
       "Multi Generation             8\n",
       "Premium Apartment Loft       4\n",
       "Improved-Maisonette          2\n",
       "Premium Maisonette           2\n",
       "Name: flat_model, dtype: int64"
      ]
     },
     "execution_count": 101,
     "metadata": {},
     "output_type": "execute_result"
    }
   ],
   "source": [
    "df_pred['flat_model'].value_counts()"
   ]
  },
  {
   "cell_type": "markdown",
   "id": "7391e636-3f99-43e3-9582-62ca2fda265a",
   "metadata": {},
   "source": [
    "- It is observed `2-room` is missing from the predict data\n",
    "- As the total counts of `2-room` flat in train data is only 4, it is safe to drop the 4 rows so that train and predict data will have the same number of columns after One Hot Encoding."
   ]
  },
  {
   "cell_type": "code",
   "execution_count": 102,
   "id": "4d0e8acb-e6af-4b36-9e5f-d571c8244a79",
   "metadata": {},
   "outputs": [
    {
     "data": {
      "text/html": [
       "<div>\n",
       "<style scoped>\n",
       "    .dataframe tbody tr th:only-of-type {\n",
       "        vertical-align: middle;\n",
       "    }\n",
       "\n",
       "    .dataframe tbody tr th {\n",
       "        vertical-align: top;\n",
       "    }\n",
       "\n",
       "    .dataframe thead th {\n",
       "        text-align: right;\n",
       "    }\n",
       "</style>\n",
       "<table border=\"1\" class=\"dataframe\">\n",
       "  <thead>\n",
       "    <tr style=\"text-align: right;\">\n",
       "      <th></th>\n",
       "      <th>town</th>\n",
       "      <th>flat_type</th>\n",
       "      <th>floor_area_sqm</th>\n",
       "      <th>flat_model</th>\n",
       "      <th>lease_commence_date</th>\n",
       "      <th>resale_price</th>\n",
       "      <th>Tranc_Year</th>\n",
       "      <th>Tranc_Month</th>\n",
       "      <th>mid_storey</th>\n",
       "      <th>max_floor_lvl</th>\n",
       "      <th>...</th>\n",
       "      <th>mrt_nearest_distance</th>\n",
       "      <th>bus_interchange</th>\n",
       "      <th>mrt_interchange</th>\n",
       "      <th>bus_stop_nearest_distance</th>\n",
       "      <th>pri_sch_nearest_distance</th>\n",
       "      <th>vacancy</th>\n",
       "      <th>pri_sch_affiliation</th>\n",
       "      <th>sec_sch_nearest_dist</th>\n",
       "      <th>cutoff_point</th>\n",
       "      <th>affiliation</th>\n",
       "    </tr>\n",
       "  </thead>\n",
       "  <tbody>\n",
       "    <tr>\n",
       "      <th>33600</th>\n",
       "      <td>SENGKANG</td>\n",
       "      <td>2 ROOM</td>\n",
       "      <td>46.0</td>\n",
       "      <td>2-room</td>\n",
       "      <td>2014</td>\n",
       "      <td>227000.0</td>\n",
       "      <td>2020</td>\n",
       "      <td>1</td>\n",
       "      <td>23</td>\n",
       "      <td>26</td>\n",
       "      <td>...</td>\n",
       "      <td>2494.101230</td>\n",
       "      <td>1</td>\n",
       "      <td>1</td>\n",
       "      <td>81.561509</td>\n",
       "      <td>214.367303</td>\n",
       "      <td>43</td>\n",
       "      <td>0</td>\n",
       "      <td>676.666185</td>\n",
       "      <td>219</td>\n",
       "      <td>0</td>\n",
       "    </tr>\n",
       "    <tr>\n",
       "      <th>39505</th>\n",
       "      <td>PASIR RIS</td>\n",
       "      <td>2 ROOM</td>\n",
       "      <td>47.0</td>\n",
       "      <td>2-room</td>\n",
       "      <td>2015</td>\n",
       "      <td>275000.0</td>\n",
       "      <td>2021</td>\n",
       "      <td>3</td>\n",
       "      <td>8</td>\n",
       "      <td>13</td>\n",
       "      <td>...</td>\n",
       "      <td>414.399516</td>\n",
       "      <td>1</td>\n",
       "      <td>0</td>\n",
       "      <td>71.384048</td>\n",
       "      <td>693.104814</td>\n",
       "      <td>52</td>\n",
       "      <td>0</td>\n",
       "      <td>290.650835</td>\n",
       "      <td>208</td>\n",
       "      <td>0</td>\n",
       "    </tr>\n",
       "    <tr>\n",
       "      <th>96376</th>\n",
       "      <td>PASIR RIS</td>\n",
       "      <td>2 ROOM</td>\n",
       "      <td>55.0</td>\n",
       "      <td>2-room</td>\n",
       "      <td>1994</td>\n",
       "      <td>250000.0</td>\n",
       "      <td>2020</td>\n",
       "      <td>11</td>\n",
       "      <td>2</td>\n",
       "      <td>10</td>\n",
       "      <td>...</td>\n",
       "      <td>965.052899</td>\n",
       "      <td>0</td>\n",
       "      <td>0</td>\n",
       "      <td>127.751219</td>\n",
       "      <td>323.249487</td>\n",
       "      <td>40</td>\n",
       "      <td>0</td>\n",
       "      <td>368.356657</td>\n",
       "      <td>188</td>\n",
       "      <td>0</td>\n",
       "    </tr>\n",
       "    <tr>\n",
       "      <th>150115</th>\n",
       "      <td>PASIR RIS</td>\n",
       "      <td>2 ROOM</td>\n",
       "      <td>55.0</td>\n",
       "      <td>2-room</td>\n",
       "      <td>1994</td>\n",
       "      <td>240000.0</td>\n",
       "      <td>2016</td>\n",
       "      <td>10</td>\n",
       "      <td>2</td>\n",
       "      <td>10</td>\n",
       "      <td>...</td>\n",
       "      <td>965.052899</td>\n",
       "      <td>0</td>\n",
       "      <td>0</td>\n",
       "      <td>127.751219</td>\n",
       "      <td>323.249487</td>\n",
       "      <td>40</td>\n",
       "      <td>0</td>\n",
       "      <td>368.356657</td>\n",
       "      <td>188</td>\n",
       "      <td>0</td>\n",
       "    </tr>\n",
       "  </tbody>\n",
       "</table>\n",
       "<p>4 rows × 38 columns</p>\n",
       "</div>"
      ],
      "text/plain": [
       "             town flat_type  floor_area_sqm flat_model  lease_commence_date  \\\n",
       "33600    SENGKANG    2 ROOM            46.0     2-room                 2014   \n",
       "39505   PASIR RIS    2 ROOM            47.0     2-room                 2015   \n",
       "96376   PASIR RIS    2 ROOM            55.0     2-room                 1994   \n",
       "150115  PASIR RIS    2 ROOM            55.0     2-room                 1994   \n",
       "\n",
       "        resale_price  Tranc_Year  Tranc_Month  mid_storey  max_floor_lvl  ...  \\\n",
       "33600       227000.0        2020            1          23             26  ...   \n",
       "39505       275000.0        2021            3           8             13  ...   \n",
       "96376       250000.0        2020           11           2             10  ...   \n",
       "150115      240000.0        2016           10           2             10  ...   \n",
       "\n",
       "        mrt_nearest_distance  bus_interchange  mrt_interchange  \\\n",
       "33600            2494.101230                1                1   \n",
       "39505             414.399516                1                0   \n",
       "96376             965.052899                0                0   \n",
       "150115            965.052899                0                0   \n",
       "\n",
       "        bus_stop_nearest_distance  pri_sch_nearest_distance  vacancy  \\\n",
       "33600                   81.561509                214.367303       43   \n",
       "39505                   71.384048                693.104814       52   \n",
       "96376                  127.751219                323.249487       40   \n",
       "150115                 127.751219                323.249487       40   \n",
       "\n",
       "        pri_sch_affiliation  sec_sch_nearest_dist  cutoff_point  affiliation  \n",
       "33600                     0            676.666185           219            0  \n",
       "39505                     0            290.650835           208            0  \n",
       "96376                     0            368.356657           188            0  \n",
       "150115                    0            368.356657           188            0  \n",
       "\n",
       "[4 rows x 38 columns]"
      ]
     },
     "execution_count": 102,
     "metadata": {},
     "output_type": "execute_result"
    }
   ],
   "source": [
    "# find the index of the four '2-room' flats:\n",
    "df.loc[df['flat_model'] == '2-room']"
   ]
  },
  {
   "cell_type": "code",
   "execution_count": 103,
   "id": "99eac4d0-0ccb-472b-9215-e932d265f549",
   "metadata": {},
   "outputs": [],
   "source": [
    "# drop the 4 rows by indexing:\n",
    "df.drop([33600, 39505, 96376, 150115], axis=0, inplace=True)"
   ]
  },
  {
   "cell_type": "markdown",
   "id": "55526b95-3d22-4bbe-8f1a-05fec2f4bb59",
   "metadata": {},
   "source": [
    "- Now, One Hot Encloding for features: `town` `flat_type` `flat_model` `planning_area`"
   ]
  },
  {
   "cell_type": "code",
   "execution_count": 104,
   "id": "4f03c3ba-de03-45ee-927d-42b0f7bd0592",
   "metadata": {},
   "outputs": [],
   "source": [
    "df= pd.get_dummies(df, columns=['town', 'flat_type', 'flat_model', 'planning_area'], drop_first=True)"
   ]
  },
  {
   "cell_type": "code",
   "execution_count": 105,
   "id": "fd7bf28c-24a6-41fa-9b3e-90db1d574ee5",
   "metadata": {},
   "outputs": [],
   "source": [
    "df_pred= pd.get_dummies(df_pred, columns=['town', 'flat_type', 'flat_model','planning_area'], drop_first=True)"
   ]
  },
  {
   "cell_type": "code",
   "execution_count": 106,
   "id": "6166220b-c7b4-4ab5-bb14-3d0d88b84b38",
   "metadata": {},
   "outputs": [
    {
     "data": {
      "text/plain": [
       "(150630, 114)"
      ]
     },
     "execution_count": 106,
     "metadata": {},
     "output_type": "execute_result"
    }
   ],
   "source": [
    "df.shape"
   ]
  },
  {
   "cell_type": "code",
   "execution_count": 107,
   "id": "fe022e4e-6e1d-4e46-b41a-0d7a86a244bb",
   "metadata": {},
   "outputs": [
    {
     "data": {
      "text/plain": [
       "(16737, 113)"
      ]
     },
     "execution_count": 107,
     "metadata": {},
     "output_type": "execute_result"
    }
   ],
   "source": [
    "df_pred.shape"
   ]
  },
  {
   "cell_type": "markdown",
   "id": "0debc7ad-2f37-41e4-8ec2-dac591198bda",
   "metadata": {},
   "source": [
    "# Modeling"
   ]
  },
  {
   "cell_type": "code",
   "execution_count": 115,
   "id": "c49cbb3d-5664-4877-8d27-e539d735521c",
   "metadata": {},
   "outputs": [],
   "source": [
    "# import libraries:\n",
    "from sklearn.model_selection import train_test_split, cross_val_score\n",
    "from sklearn.preprocessing import StandardScaler\n",
    "from sklearn.linear_model import Ridge, Lasso, ElasticNet, LinearRegression, RidgeCV, LassoCV, ElasticNetCV\n",
    "import matplotlib\n",
    "from sklearn import metrics"
   ]
  },
  {
   "cell_type": "markdown",
   "id": "ba907218-a06a-4fbe-b8de-b0b2dfb43ea8",
   "metadata": {},
   "source": [
    "#### Create training and testing data:"
   ]
  },
  {
   "cell_type": "code",
   "execution_count": 109,
   "id": "549d072b-12c3-4c24-8288-cb6dabc9970d",
   "metadata": {},
   "outputs": [],
   "source": [
    "# set up X and y variables:\n",
    "X = df.drop(['resale_price'], axis = 'columns')\n",
    "y = df['resale_price']"
   ]
  },
  {
   "cell_type": "code",
   "execution_count": 110,
   "id": "8a71fce4-eb43-42bb-8a4f-3ae505f2536f",
   "metadata": {},
   "outputs": [],
   "source": [
    "# split training and validation sets from train data:\n",
    "X_train, X_test, y_train, y_test = train_test_split(X,\n",
    "                                                    y,\n",
    "                                                    test_size = 0.2,\n",
    "                                                    random_state = 42)"
   ]
  },
  {
   "cell_type": "code",
   "execution_count": 111,
   "id": "de21d96f-3539-4794-82bd-b4476adf4c27",
   "metadata": {},
   "outputs": [],
   "source": [
    "# init scaling\n",
    "ss= StandardScaler()"
   ]
  },
  {
   "cell_type": "code",
   "execution_count": 112,
   "id": "e326eb7d-df48-4abb-aa67-43256b813053",
   "metadata": {},
   "outputs": [],
   "source": [
    "# fit and transform scaling\n",
    "X_train_ss = ss.fit_transform(X_train)\n",
    "X_test_ss = ss.transform(X_test)"
   ]
  },
  {
   "cell_type": "markdown",
   "id": "46155113-d3eb-4feb-ba98-40b0e4169ad9",
   "metadata": {},
   "source": [
    "#### Selection of features by regularizations:\n",
    "\n",
    "There are three types of regularization to be performed, Ridge (L2), Lasso (L1) and ElasticNet.\n",
    "\n",
    "Take the steps to find the most suitable model:\n",
    "\n",
    "- Perform cross validation of the model with a range of possible alphas (Ridge, Lasso and ElasticNet) and L1 ratio (only for Elastic Net). The cross validation score will return the best alpha and L1 ratio accordingly.\n",
    "- Train the linear model using the best alpha and L1 ratio from step 1. \n",
    "- Perform prediction on train and validation set and compute RMSE for each. Values cannot deviate too far as it may signify overfitting.\n",
    "- Choose the best model by choose the one with lowest RMSE yet does not have significant variance between variance and training set."
   ]
  },
  {
   "cell_type": "markdown",
   "id": "f1126116-6851-48e2-9ae6-c137b83482f1",
   "metadata": {},
   "source": [
    "#### Ridge Regression:"
   ]
  },
  {
   "cell_type": "code",
   "execution_count": 113,
   "id": "9f1da5c9-9aa6-4a46-91ab-6121837d2357",
   "metadata": {},
   "outputs": [
    {
     "data": {
      "text/plain": [
       "RidgeCV(alphas=array([1.00000000e-10, 1.26038293e-10, 1.58856513e-10, 2.00220037e-10,\n",
       "       2.52353917e-10, 3.18062569e-10, 4.00880633e-10, 5.05263107e-10,\n",
       "       6.36824994e-10, 8.02643352e-10, 1.01163798e-09, 1.27505124e-09,\n",
       "       1.60705282e-09, 2.02550194e-09, 2.55290807e-09, 3.21764175e-09,\n",
       "       4.05546074e-09, 5.11143348e-09, 6.44236351e-09, 8.11984499e-09,\n",
       "       1.02341140e-08, 1.28989026e-0...\n",
       "       1.23155060e+08, 1.55222536e+08, 1.95639834e+08, 2.46581108e+08,\n",
       "       3.10786619e+08, 3.91710149e+08, 4.93704785e+08, 6.22257084e+08,\n",
       "       7.84282206e+08, 9.88495905e+08, 1.24588336e+09, 1.57029012e+09,\n",
       "       1.97916687e+09, 2.49450814e+09, 3.14403547e+09, 3.96268864e+09,\n",
       "       4.99450512e+09, 6.29498899e+09, 7.93409667e+09, 1.00000000e+10]),\n",
       "        scoring='neg_mean_squared_error', store_cv_values=True)"
      ]
     },
     "execution_count": 113,
     "metadata": {},
     "output_type": "execute_result"
    }
   ],
   "source": [
    "# set possible values of alphas as ridge regression hyperparameter\n",
    "alphas = np.logspace(-10,10,200)\n",
    "\n",
    "# instantiate ridge cross validation to find the best hyperparameter\n",
    "ridge_cv = RidgeCV(alphas=alphas, scoring='neg_mean_squared_error', store_cv_values=True)\n",
    "ridge_cv.fit(X_train_ss, y_train)"
   ]
  },
  {
   "cell_type": "code",
   "execution_count": 114,
   "id": "5a87f9d6-592b-4f62-9883-913f5392691a",
   "metadata": {},
   "outputs": [
    {
     "name": "stdout",
     "output_type": "stream",
     "text": [
      "Best alpha for Ridge Regression: 7.1494289865975915\n"
     ]
    }
   ],
   "source": [
    "print(f'Best alpha for Ridge Regression: {ridge_cv.alpha_}')"
   ]
  },
  {
   "cell_type": "code",
   "execution_count": 116,
   "id": "aaa754f4-060c-4f86-ab67-b3c36e4fc56a",
   "metadata": {},
   "outputs": [
    {
     "data": {
      "image/png": "[encoded data removed]",
      "text/plain": [
       "<Figure size 1000x400 with 1 Axes>"
      ]
     },
     "metadata": {},
     "output_type": "display_data"
    }
   ],
   "source": [
    "# plot cross validation MSE with respective alpha to understand if we have reached global minimum\n",
    "ridge_cv_means = [np.mean(cv_mean) for cv_mean in ridge_cv.cv_values_.T]\n",
    "\n",
    "fig = plt.figure(figsize=(10,4))\n",
    "ax = plt.gca()\n",
    "ax.semilogx(ridge_cv.alphas, ridge_cv_means)\n",
    "\n",
    "plt.ylabel('MSE')\n",
    "plt.xlabel('Alpha')\n",
    "\n",
    "matplotlib.rc('xtick', labelsize=10)\n",
    "matplotlib.rc('ytick', labelsize=10) \n",
    "\n",
    "ax.xaxis.label.set_size(8)\n",
    "ax.yaxis.label.set_size(8);"
   ]
  },
  {
   "cell_type": "code",
   "execution_count": 117,
   "id": "c2137cc0-7d8c-4817-8212-6abd859c02a9",
   "metadata": {},
   "outputs": [],
   "source": [
    "# instantiate Ridge regression model with the best hyperparameter obtained by cross validation step\n",
    "ridge = Ridge(alpha=ridge_cv.alpha_)"
   ]
  },
  {
   "cell_type": "code",
   "execution_count": 118,
   "id": "4dac172a-e813-48ad-908d-6e478de781a3",
   "metadata": {},
   "outputs": [],
   "source": [
    "# fit the ridge model on training set:\n",
    "model_l2 = ridge.fit(X_train_ss, y_train)"
   ]
  },
  {
   "cell_type": "code",
   "execution_count": 153,
   "id": "dd97d479-0897-4398-9f74-83c4bb8b5d2b",
   "metadata": {},
   "outputs": [
    {
     "name": "stdout",
     "output_type": "stream",
     "text": [
      "R2 score for training set: 0.8882654411624934\n"
     ]
    }
   ],
   "source": [
    "# find the R2 score for the training set:\n",
    "print(f'R2 score for training set: {model_l2.score(X_train_ss, y_train)}')"
   ]
  },
  {
   "cell_type": "code",
   "execution_count": 161,
   "id": "ed446493-db66-4c2f-812f-872a09adae43",
   "metadata": {},
   "outputs": [
    {
     "name": "stdout",
     "output_type": "stream",
     "text": [
      "R2 score for validation set: 0.8866589570347541\n"
     ]
    }
   ],
   "source": [
    "# find the R2 score for the validation set:\n",
    "print(f'R2 score for validation set: {model_l2.score(X_test_ss, y_test)}')"
   ]
  },
  {
   "cell_type": "code",
   "execution_count": 119,
   "id": "0d48d928-24ad-423e-8e00-f90f53d8b1ae",
   "metadata": {},
   "outputs": [],
   "source": [
    "# find the predicted y value for training set:\n",
    "y_train_pred2 = model_l2.predict(X_train_ss) "
   ]
  },
  {
   "cell_type": "code",
   "execution_count": 120,
   "id": "da6b3ce8-da02-4023-bbbb-29dc1c7764f0",
   "metadata": {},
   "outputs": [],
   "source": [
    "rmse_l2_train = np.sqrt(metrics.mean_squared_error(y_train, y_train_pred2))"
   ]
  },
  {
   "cell_type": "code",
   "execution_count": 121,
   "id": "d09eca16-1b9f-43a7-8c09-362284a2acf4",
   "metadata": {},
   "outputs": [
    {
     "name": "stdout",
     "output_type": "stream",
     "text": [
      "RMSE value for training set: 47931.0966159553\n"
     ]
    }
   ],
   "source": [
    "print(f'RMSE value for training set: {rmse_l2_train}')"
   ]
  },
  {
   "cell_type": "code",
   "execution_count": 122,
   "id": "2f81f12c-af8f-4d71-96c2-d1e84b99a908",
   "metadata": {},
   "outputs": [],
   "source": [
    "# find the predicted y value for validation set:\n",
    "y_test_pred2 = model_l2.predict(X_test_ss)"
   ]
  },
  {
   "cell_type": "code",
   "execution_count": 123,
   "id": "173ae64e-1746-4d6f-98c0-1304ad312d01",
   "metadata": {},
   "outputs": [],
   "source": [
    "rmse_l2_test = np.sqrt(metrics.mean_squared_error(y_test, y_test_pred2))"
   ]
  },
  {
   "cell_type": "code",
   "execution_count": 124,
   "id": "9c0ab5fc-8bf9-4fef-88a9-1563d635c958",
   "metadata": {},
   "outputs": [
    {
     "name": "stdout",
     "output_type": "stream",
     "text": [
      "RMSE value for validation set: 48128.8608105506\n"
     ]
    }
   ],
   "source": [
    "print(f'RMSE value for validation set: {rmse_l2_test}')"
   ]
  },
  {
   "cell_type": "markdown",
   "id": "9e3d11e4-42fb-4372-807b-06a94fddfdd7",
   "metadata": {},
   "source": [
    "#### Lasso Regression:"
   ]
  },
  {
   "cell_type": "code",
   "execution_count": 125,
   "id": "0565de3f-d747-451e-82b8-37e4aafb0cf4",
   "metadata": {},
   "outputs": [
    {
     "data": {
      "text/plain": [
       "LassoCV(n_alphas=1000)"
      ]
     },
     "execution_count": 125,
     "metadata": {},
     "output_type": "execute_result"
    }
   ],
   "source": [
    "# instantiate lasso cross validation to find the best hyperparameter\n",
    "lasso_cv = LassoCV(n_alphas=1000)\n",
    "lasso_cv.fit(X_train_ss, y_train)"
   ]
  },
  {
   "cell_type": "code",
   "execution_count": 126,
   "id": "44fd5a93-d1f0-4c49-8ffa-f5ea3cb256f6",
   "metadata": {},
   "outputs": [
    {
     "name": "stdout",
     "output_type": "stream",
     "text": [
      "Best alpha for Lasso Regression: 93.89603273068234\n"
     ]
    }
   ],
   "source": [
    "print(f'Best alpha for Lasso Regression: {lasso_cv.alpha_}') "
   ]
  },
  {
   "cell_type": "code",
   "execution_count": 127,
   "id": "db9a9dad-97d6-4173-9f28-fd9d67d57d31",
   "metadata": {},
   "outputs": [
    {
     "data": {
      "image/png": "[encoded data removed]",
      "text/plain": [
       "<Figure size 1000x400 with 1 Axes>"
      ]
     },
     "metadata": {},
     "output_type": "display_data"
    }
   ],
   "source": [
    "# plot cross validation MSE with respective alpha to understand if we have reached global minimum\n",
    "lasso_cv_means = [np.mean(cv_alpha) for cv_alpha in lasso_cv.mse_path_]\n",
    "\n",
    "fig = plt.figure(figsize=(10,4))\n",
    "ax = plt.gca()\n",
    "ax.plot(lasso_cv.alphas_, list(reversed(lasso_cv_means)))\n",
    "\n",
    "plt.ylabel('MSE')\n",
    "plt.xlabel('Alpha')\n",
    "\n",
    "matplotlib.rc('xtick', labelsize=8)\n",
    "matplotlib.rc('ytick', labelsize=8) \n",
    "\n",
    "ax.xaxis.label.set_size(10)\n",
    "ax.yaxis.label.set_size(10)"
   ]
  },
  {
   "cell_type": "code",
   "execution_count": 128,
   "id": "3d296226-f0f8-4f72-a85f-c02040099afa",
   "metadata": {},
   "outputs": [],
   "source": [
    "# instantiate Lasso Regression model with the best hyperparameter obtained by cross validation step\n",
    "lasso = Lasso(alpha=lasso_cv.alpha_)"
   ]
  },
  {
   "cell_type": "code",
   "execution_count": 129,
   "id": "a8c222c3-4d0c-4887-bcd8-c4561b598988",
   "metadata": {},
   "outputs": [],
   "source": [
    "# Train the model to the training data\n",
    "model_l1 = lasso.fit(X_train_ss, y_train)"
   ]
  },
  {
   "cell_type": "code",
   "execution_count": 154,
   "id": "d053fa52-5afe-44cd-8767-1bb14461ebde",
   "metadata": {},
   "outputs": [
    {
     "name": "stdout",
     "output_type": "stream",
     "text": [
      "R2 score for training set: 0.887552558877016\n"
     ]
    }
   ],
   "source": [
    "# find the R2 score for the training set:\n",
    "print(f'R2 score for training set: {model_l1.score(X_train_ss, y_train)}')"
   ]
  },
  {
   "cell_type": "code",
   "execution_count": 162,
   "id": "51a272db-3af0-4f73-af9a-54204bc28733",
   "metadata": {},
   "outputs": [
    {
     "name": "stdout",
     "output_type": "stream",
     "text": [
      "R2 score for training set: 0.8861078233977556\n"
     ]
    }
   ],
   "source": [
    "# find the R2 score for the validation set:\n",
    "print(f'R2 score for training set: {model_l1.score(X_test_ss, y_test)}')"
   ]
  },
  {
   "cell_type": "code",
   "execution_count": 155,
   "id": "158dd153-0fd3-473d-a97f-93fa3d163cb4",
   "metadata": {},
   "outputs": [],
   "source": [
    "# find the predicted y value for training set:\n",
    "y_train_pred1 = model_l1.predict(X_train_ss) "
   ]
  },
  {
   "cell_type": "code",
   "execution_count": 156,
   "id": "b28e28f4-e938-4a9b-9396-b290592715ef",
   "metadata": {},
   "outputs": [],
   "source": [
    "rmse_l1_train = np.sqrt(metrics.mean_squared_error(y_train, y_train_pred1))"
   ]
  },
  {
   "cell_type": "code",
   "execution_count": 157,
   "id": "0d7e0e55-36f4-4a3f-b761-32d97542483e",
   "metadata": {},
   "outputs": [
    {
     "name": "stdout",
     "output_type": "stream",
     "text": [
      "RMSE value for training set: 48083.757091366315\n"
     ]
    }
   ],
   "source": [
    "print(f'RMSE value for training set: {rmse_l1_train}')"
   ]
  },
  {
   "cell_type": "code",
   "execution_count": 158,
   "id": "befe84bc-8166-4c93-aa4f-545f4cd6abb0",
   "metadata": {},
   "outputs": [],
   "source": [
    "# find the predicted y value for validation set:\n",
    "y_test_pred1 = model_l1.predict(X_test_ss)"
   ]
  },
  {
   "cell_type": "code",
   "execution_count": 159,
   "id": "19e09077-35b8-4175-90d2-e18e52681f36",
   "metadata": {},
   "outputs": [],
   "source": [
    "rmse_l1_test = np.sqrt(metrics.mean_squared_error(y_test, y_test_pred1))"
   ]
  },
  {
   "cell_type": "code",
   "execution_count": 160,
   "id": "4133cf9a-70c4-4a81-a224-081dbfc48e83",
   "metadata": {},
   "outputs": [
    {
     "name": "stdout",
     "output_type": "stream",
     "text": [
      "RMSE value for validation set: 48245.73491829278\n"
     ]
    }
   ],
   "source": [
    "print(f'RMSE value for validation set: {rmse_l1_test}')"
   ]
  },
  {
   "cell_type": "markdown",
   "id": "7a47885e-702a-4fc7-a02f-e9e1b4991b31",
   "metadata": {},
   "source": [
    "#### Elastic Net Regression:"
   ]
  },
  {
   "cell_type": "code",
   "execution_count": 163,
   "id": "e949d910-5059-40fb-8572-ddb5ca45be46",
   "metadata": {},
   "outputs": [],
   "source": [
    "# set L1 ratio value\n",
    "l1_ratio = np.linspace(0.05, 0.95, 5)"
   ]
  },
  {
   "cell_type": "code",
   "execution_count": 164,
   "id": "88c5fcf9-e2c6-4694-b351-c4dc906a586c",
   "metadata": {},
   "outputs": [
    {
     "data": {
      "text/plain": [
       "ElasticNetCV(l1_ratio=array([0.05 , 0.275, 0.5  , 0.725, 0.95 ]), n_alphas=200)"
      ]
     },
     "execution_count": 164,
     "metadata": {},
     "output_type": "execute_result"
    }
   ],
   "source": [
    "# instantiate ElasticNet cross validation to find the best hyperparameter\n",
    "enet_cv = ElasticNetCV(n_alphas=200, l1_ratio=l1_ratio)\n",
    "enet_cv.fit(X_train_ss, y_train)"
   ]
  },
  {
   "cell_type": "code",
   "execution_count": 165,
   "id": "97d4261f-41c8-4895-8877-e24aa2d531e5",
   "metadata": {},
   "outputs": [
    {
     "name": "stdout",
     "output_type": "stream",
     "text": [
      "Best alpha for Lasso regression: 98.83792919019196\n"
     ]
    }
   ],
   "source": [
    "print(f'Best alpha for Lasso regression: {enet_cv.alpha_}')"
   ]
  },
  {
   "cell_type": "code",
   "execution_count": 166,
   "id": "20c6eaf9-110f-45a4-857f-462d902730b9",
   "metadata": {},
   "outputs": [],
   "source": [
    "# Instantiate Elastic Net regression model with the best hyperparameter obtained by cross validation step\n",
    "enet = ElasticNet(alpha=enet_cv.alpha_, l1_ratio=enet_cv.l1_ratio_)"
   ]
  },
  {
   "cell_type": "code",
   "execution_count": 167,
   "id": "74b3172a-a5de-437f-9def-3cc2eb1f70bf",
   "metadata": {},
   "outputs": [],
   "source": [
    "# train the Elastic Net model to the training data\n",
    "model_en = enet.fit(X_train_ss, y_train)"
   ]
  },
  {
   "cell_type": "code",
   "execution_count": 168,
   "id": "5147acd0-18b8-47df-a45c-9625255759ad",
   "metadata": {},
   "outputs": [
    {
     "name": "stdout",
     "output_type": "stream",
     "text": [
      "R2 score for training set: 0.4944706000177559\n"
     ]
    }
   ],
   "source": [
    "# find the R2 score for the training set:\n",
    "print(f'R2 score for training set: {model_en.score(X_train_ss, y_train)}')"
   ]
  },
  {
   "cell_type": "code",
   "execution_count": 169,
   "id": "5ec9e678-7a8f-4072-b462-5462d8b4b17c",
   "metadata": {},
   "outputs": [
    {
     "name": "stdout",
     "output_type": "stream",
     "text": [
      "R2 score for training set: 0.4952582108676057\n"
     ]
    }
   ],
   "source": [
    "# find the R2 score for the validation set:\n",
    "print(f'R2 score for training set: {model_en.score(X_test_ss, y_test)}')"
   ]
  },
  {
   "cell_type": "code",
   "execution_count": 170,
   "id": "bef21317-1eb4-492f-867b-5203ee66eba7",
   "metadata": {},
   "outputs": [],
   "source": [
    "# find the predicted y value for training set:\n",
    "y_train_pred_en = model_en.predict(X_train_ss)"
   ]
  },
  {
   "cell_type": "code",
   "execution_count": 171,
   "id": "21fbc7a5-9cb3-43e3-a2c4-89b283ba3156",
   "metadata": {},
   "outputs": [],
   "source": [
    "# RMSE value for train data\n",
    "rmse_en_train = np.sqrt(metrics.mean_squared_error(y_train, y_train_pred_en))"
   ]
  },
  {
   "cell_type": "code",
   "execution_count": 172,
   "id": "0616740a-181d-4908-8511-43cc1f48e06d",
   "metadata": {},
   "outputs": [
    {
     "name": "stdout",
     "output_type": "stream",
     "text": [
      "RMSE value for training set: 101952.25005204645\n"
     ]
    }
   ],
   "source": [
    "print(f'RMSE value for training set: {rmse_en_train}')"
   ]
  },
  {
   "cell_type": "code",
   "execution_count": 173,
   "id": "f3b38c6e-5153-437b-a993-ac2a2f0ce783",
   "metadata": {},
   "outputs": [],
   "source": [
    "# find the predicted y value for validation set:\n",
    "y_test_pred_en = model_en.predict(X_test_ss)"
   ]
  },
  {
   "cell_type": "code",
   "execution_count": 174,
   "id": "7aa00bf2-5304-4635-91c5-14d9299a1ebd",
   "metadata": {},
   "outputs": [],
   "source": [
    "# RMSE value for val data\n",
    "rmse_en_test = np.sqrt(metrics.mean_squared_error(y_test, y_test_pred_en))"
   ]
  },
  {
   "cell_type": "code",
   "execution_count": 175,
   "id": "052eab01-6023-4365-81a9-9d60e961c0a7",
   "metadata": {},
   "outputs": [
    {
     "name": "stdout",
     "output_type": "stream",
     "text": [
      "RMSE value for validation set: 101565.59364458353\n"
     ]
    }
   ],
   "source": [
    "print(f'RMSE value for validation set: {rmse_en_test}')"
   ]
  },
  {
   "cell_type": "markdown",
   "id": "d06a3d60-0d59-4ebe-9f8b-448b41ee695b",
   "metadata": {},
   "source": [
    "# Model Evaluation"
   ]
  },
  {
   "cell_type": "code",
   "execution_count": 181,
   "id": "4d4ffa65-e087-4017-b653-6b2419911b3d",
   "metadata": {},
   "outputs": [
    {
     "name": "stdout",
     "output_type": "stream",
     "text": [
      "Results of Linear Model trainings are as follows: \n",
      "1. Ridge Regression: \n",
      "R2-score on training set: 0.888\n",
      "R2-score on validation set: 0.887\n",
      "RMSE on training set : 47931.1\n",
      "RMSE on validation set: 48128.9\n",
      "\n",
      "2. Lasso Regression: \n",
      "R2-score on training set: 0.888\n",
      "R2-score on validation set: 0.886\n",
      "RMSE on training set : 48083.8\n",
      "RMSE on validation set: 48245.7\n",
      "\n",
      "3. ElasticNet Regression: \n",
      "R2-score on training set: 0.494\n",
      "R2-score on validation set: 0.495\n",
      "RMSE on training set : 101952.3\n",
      "RMSE on validation set: 101565.6\n",
      "\n"
     ]
    }
   ],
   "source": [
    "print(\"Results of Linear Model trainings are as follows: \")\n",
    "print(\"1. Ridge Regression: \")\n",
    "print(f\"R2-score on training set: {round((model_l2.score(X_train_ss, y_train)),3)}\")\n",
    "print(f\"R2-score on validation set: {round((model_l2.score(X_test_ss, y_test)),3)}\")\n",
    "print(f\"RMSE on training set : {round(rmse_l2_train,1)}\")\n",
    "print(f\"RMSE on validation set: {round(rmse_l2_test,1)}\\n\")\n",
    "print(\"2. Lasso Regression: \")\n",
    "print(f\"R2-score on training set: {round((model_l1.score(X_train_ss, y_train)),3)}\")\n",
    "print(f\"R2-score on validation set: {round((model_l1.score(X_test_ss, y_test)),3)}\")\n",
    "print(f\"RMSE on training set : {round(rmse_l1_train,1)}\")\n",
    "print(f\"RMSE on validation set: {round(rmse_l1_test,1)}\\n\")\n",
    "print(\"3. ElasticNet Regression: \")\n",
    "print(f\"R2-score on training set: {round((model_en.score(X_train_ss, y_train)),3)}\")\n",
    "print(f\"R2-score on validation set: {round((model_en.score(X_test_ss, y_test)),3)}\")\n",
    "print(f\"RMSE on training set : {round(rmse_en_train,1)}\")\n",
    "print(f\"RMSE on validation set: {round(rmse_en_test,1)}\\n\")"
   ]
  },
  {
   "cell_type": "markdown",
   "id": "1ee76ef1-438a-4344-bb45-034e802a8e0e",
   "metadata": {},
   "source": [
    "#### Ridge Regression appears to be performing best among regulisations. Let's find out how far are the predicted values away from the actual values for the training and validation sets."
   ]
  },
  {
   "cell_type": "code",
   "execution_count": 176,
   "id": "ee502e25-341a-4068-9ad8-d1ba14a31ff1",
   "metadata": {},
   "outputs": [
    {
     "data": {
      "image/png": "[encoded data removed]",
      "text/plain": [
       "<Figure size 1000x500 with 1 Axes>"
      ]
     },
     "metadata": {},
     "output_type": "display_data"
    }
   ],
   "source": [
    "# scatter plot best model prediction results on training set:\n",
    "fig,ax = plt.subplots(figsize=(10,5))\n",
    "sns.scatterplot(\n",
    "    y=y_train_pred2,\n",
    "    x=y_train,\n",
    "    ax=ax\n",
    ")\n",
    "plt.ylabel('Predicted')\n",
    "plt.xlabel('Actual')\n",
    "plt.axline((0,0),(1,1),color='black')\n",
    "\n",
    "matplotlib.rc('xtick', labelsize=7)\n",
    "matplotlib.rc('ytick', labelsize=7) \n",
    "\n",
    "ax.xaxis.label.set_size(10)\n",
    "ax.yaxis.label.set_size(10)"
   ]
  },
  {
   "cell_type": "markdown",
   "id": "b0f85204-b6c3-40e8-a069-099ff4354573",
   "metadata": {},
   "source": [
    "- For the training set, it is observed that the predicted values are largely centred along the y=x line, with only a few prediction outliers above the actual values."
   ]
  },
  {
   "cell_type": "code",
   "execution_count": 177,
   "id": "d98accdb-64c6-4b2f-9a1a-759a7ee2917f",
   "metadata": {},
   "outputs": [
    {
     "data": {
      "image/png": "[encoded data removed]",
      "text/plain": [
       "<Figure size 1000x500 with 1 Axes>"
      ]
     },
     "metadata": {},
     "output_type": "display_data"
    }
   ],
   "source": [
    "# scatter plot best model prediction results on validation set:\n",
    "fig,ax = plt.subplots(figsize=(10,5))\n",
    "sns.scatterplot(\n",
    "    y=y_test_pred2,\n",
    "    x=y_test,\n",
    "    ax=ax\n",
    ")\n",
    "plt.ylabel('Predicted')\n",
    "plt.xlabel('Actual')\n",
    "plt.axline((0,0),(1,1),color='black')\n",
    "\n",
    "matplotlib.rc('xtick', labelsize=7)\n",
    "matplotlib.rc('ytick', labelsize=7) \n",
    "\n",
    "ax.xaxis.label.set_size(10)\n",
    "ax.yaxis.label.set_size(10);"
   ]
  },
  {
   "cell_type": "markdown",
   "id": "d6647f43-e246-4e3d-adfe-0115a66b2067",
   "metadata": {},
   "source": [
    "- For the validation set, it is interesting to observe a few outliers of predicted values below the the actual values.\n",
    "- In overall, the plots are closely fitting the y=x line. This indicate a good fittin of the model on the validation set."
   ]
  },
  {
   "cell_type": "markdown",
   "id": "bd916b0b-187d-4cde-ae98-67ac600cfb23",
   "metadata": {},
   "source": [
    "# Prediction"
   ]
  },
  {
   "cell_type": "code",
   "execution_count": 178,
   "id": "6a750bf8-ee24-4de2-821b-8cc48cbf3bdc",
   "metadata": {},
   "outputs": [
    {
     "data": {
      "text/html": [
       "<div>\n",
       "<style scoped>\n",
       "    .dataframe tbody tr th:only-of-type {\n",
       "        vertical-align: middle;\n",
       "    }\n",
       "\n",
       "    .dataframe tbody tr th {\n",
       "        vertical-align: top;\n",
       "    }\n",
       "\n",
       "    .dataframe thead th {\n",
       "        text-align: right;\n",
       "    }\n",
       "</style>\n",
       "<table border=\"1\" class=\"dataframe\">\n",
       "  <thead>\n",
       "    <tr style=\"text-align: right;\">\n",
       "      <th></th>\n",
       "      <th>floor_area_sqm</th>\n",
       "      <th>lease_commence_date</th>\n",
       "      <th>Tranc_Year</th>\n",
       "      <th>Tranc_Month</th>\n",
       "      <th>mid_storey</th>\n",
       "      <th>max_floor_lvl</th>\n",
       "      <th>commercial</th>\n",
       "      <th>market_hawker</th>\n",
       "      <th>multistorey_carpark</th>\n",
       "      <th>precinct_pavilion</th>\n",
       "      <th>...</th>\n",
       "      <th>planning_area_Rochor</th>\n",
       "      <th>planning_area_Sembawang</th>\n",
       "      <th>planning_area_Sengkang</th>\n",
       "      <th>planning_area_Serangoon</th>\n",
       "      <th>planning_area_Tampines</th>\n",
       "      <th>planning_area_Tanglin</th>\n",
       "      <th>planning_area_Toa Payoh</th>\n",
       "      <th>planning_area_Western Water Catchment</th>\n",
       "      <th>planning_area_Woodlands</th>\n",
       "      <th>planning_area_Yishun</th>\n",
       "    </tr>\n",
       "  </thead>\n",
       "  <tbody>\n",
       "    <tr>\n",
       "      <th>0</th>\n",
       "      <td>84.0</td>\n",
       "      <td>1987</td>\n",
       "      <td>2012</td>\n",
       "      <td>11</td>\n",
       "      <td>8</td>\n",
       "      <td>12</td>\n",
       "      <td>1</td>\n",
       "      <td>0</td>\n",
       "      <td>0</td>\n",
       "      <td>0</td>\n",
       "      <td>...</td>\n",
       "      <td>0</td>\n",
       "      <td>0</td>\n",
       "      <td>0</td>\n",
       "      <td>0</td>\n",
       "      <td>0</td>\n",
       "      <td>0</td>\n",
       "      <td>0</td>\n",
       "      <td>0</td>\n",
       "      <td>0</td>\n",
       "      <td>1</td>\n",
       "    </tr>\n",
       "    <tr>\n",
       "      <th>1</th>\n",
       "      <td>112.0</td>\n",
       "      <td>2008</td>\n",
       "      <td>2019</td>\n",
       "      <td>8</td>\n",
       "      <td>5</td>\n",
       "      <td>14</td>\n",
       "      <td>0</td>\n",
       "      <td>0</td>\n",
       "      <td>0</td>\n",
       "      <td>0</td>\n",
       "      <td>...</td>\n",
       "      <td>0</td>\n",
       "      <td>0</td>\n",
       "      <td>0</td>\n",
       "      <td>0</td>\n",
       "      <td>0</td>\n",
       "      <td>0</td>\n",
       "      <td>0</td>\n",
       "      <td>0</td>\n",
       "      <td>0</td>\n",
       "      <td>0</td>\n",
       "    </tr>\n",
       "    <tr>\n",
       "      <th>2</th>\n",
       "      <td>68.0</td>\n",
       "      <td>1980</td>\n",
       "      <td>2013</td>\n",
       "      <td>10</td>\n",
       "      <td>8</td>\n",
       "      <td>12</td>\n",
       "      <td>0</td>\n",
       "      <td>0</td>\n",
       "      <td>0</td>\n",
       "      <td>0</td>\n",
       "      <td>...</td>\n",
       "      <td>0</td>\n",
       "      <td>0</td>\n",
       "      <td>0</td>\n",
       "      <td>0</td>\n",
       "      <td>0</td>\n",
       "      <td>0</td>\n",
       "      <td>0</td>\n",
       "      <td>0</td>\n",
       "      <td>0</td>\n",
       "      <td>0</td>\n",
       "    </tr>\n",
       "  </tbody>\n",
       "</table>\n",
       "<p>3 rows × 113 columns</p>\n",
       "</div>"
      ],
      "text/plain": [
       "   floor_area_sqm  lease_commence_date  Tranc_Year  Tranc_Month  mid_storey  \\\n",
       "0            84.0                 1987        2012           11           8   \n",
       "1           112.0                 2008        2019            8           5   \n",
       "2            68.0                 1980        2013           10           8   \n",
       "\n",
       "   max_floor_lvl  commercial  market_hawker  multistorey_carpark  \\\n",
       "0             12           1              0                    0   \n",
       "1             14           0              0                    0   \n",
       "2             12           0              0                    0   \n",
       "\n",
       "   precinct_pavilion  ...  planning_area_Rochor  planning_area_Sembawang  \\\n",
       "0                  0  ...                     0                        0   \n",
       "1                  0  ...                     0                        0   \n",
       "2                  0  ...                     0                        0   \n",
       "\n",
       "   planning_area_Sengkang  planning_area_Serangoon  planning_area_Tampines  \\\n",
       "0                       0                        0                       0   \n",
       "1                       0                        0                       0   \n",
       "2                       0                        0                       0   \n",
       "\n",
       "   planning_area_Tanglin  planning_area_Toa Payoh  \\\n",
       "0                      0                        0   \n",
       "1                      0                        0   \n",
       "2                      0                        0   \n",
       "\n",
       "   planning_area_Western Water Catchment  planning_area_Woodlands  \\\n",
       "0                                      0                        0   \n",
       "1                                      0                        0   \n",
       "2                                      0                        0   \n",
       "\n",
       "   planning_area_Yishun  \n",
       "0                     1  \n",
       "1                     0  \n",
       "2                     0  \n",
       "\n",
       "[3 rows x 113 columns]"
      ]
     },
     "execution_count": 178,
     "metadata": {},
     "output_type": "execute_result"
    }
   ],
   "source": [
    "df_pred.head(3)"
   ]
  },
  {
   "cell_type": "code",
   "execution_count": 184,
   "id": "aeff9331-b602-402d-8781-9d5a5154aa75",
   "metadata": {},
   "outputs": [],
   "source": [
    "# apply scaling on X variables:\n",
    "X_pred_ss = ss.transform(df_pred)"
   ]
  },
  {
   "cell_type": "code",
   "execution_count": 185,
   "id": "1435d1c0-f920-4581-8840-ac7df837d05b",
   "metadata": {},
   "outputs": [],
   "source": [
    "# perform prediction based on the best model \n",
    "y_pred_final = pd.Series(model_l2.predict(X_pred_ss), name='resale_price')"
   ]
  },
  {
   "cell_type": "code",
   "execution_count": 187,
   "id": "5140551d-0799-4490-a4d8-43b54e636c2f",
   "metadata": {},
   "outputs": [
    {
     "name": "stderr",
     "output_type": "stream",
     "text": [
      "C:\\Users\\daphn\\AppData\\Local\\Temp\\ipykernel_9928\\2462497526.py:1: DtypeWarning: Columns (40) have mixed types. Specify dtype option on import or set low_memory=False.\n",
      "  df_ori = pd.read_csv('../datasets/test.csv')\n"
     ]
    }
   ],
   "source": [
    "# open the original prediction data with transaction id:\n",
    "df_ori = pd.read_csv('../datasets/test.csv')"
   ]
  },
  {
   "cell_type": "code",
   "execution_count": 189,
   "id": "d6ff03e2-8ff0-45c9-a1b9-163de94fa9a7",
   "metadata": {},
   "outputs": [],
   "source": [
    "# create a dataframe for the result with the corresponding transaction id:\n",
    "y_result = pd.concat([df_ori['id'], y_pred_final], axis=1)"
   ]
  },
  {
   "cell_type": "code",
   "execution_count": 197,
   "id": "0a98ba4c-cd0a-4993-a50f-cee72c6887c9",
   "metadata": {},
   "outputs": [],
   "source": [
    "# save the dataframe to csv file:\n",
    "y_result.to_csv('../datasets/result.csv')"
   ]
  }
 ],
 "metadata": {
  "kernelspec": {
   "display_name": "dsi-sg",
   "language": "python",
   "name": "dsi-sg"
  },
  "language_info": {
   "codemirror_mode": {
    "name": "ipython",
    "version": 3
   },
   "file_extension": ".py",
   "mimetype": "text/x-python",
   "name": "python",
   "nbconvert_exporter": "python",
   "pygments_lexer": "ipython3",
   "version": "3.9.13"
  }
 },
 "nbformat": 4,
 "nbformat_minor": 5
}
